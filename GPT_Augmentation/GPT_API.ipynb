{
 "cells": [
  {
   "cell_type": "code",
   "execution_count": 7,
   "id": "bb81e233-1082-43b0-ad2e-546a2adb2349",
   "metadata": {},
   "outputs": [],
   "source": [
    "import pandas as pd\n",
    "import numpy as np\n",
    "import openai\n",
    "from tqdm import tqdm\n",
    "import time"
   ]
  },
  {
   "cell_type": "code",
   "execution_count": 8,
   "id": "942ef133-3cf4-433c-a0d1-4be86277acfb",
   "metadata": {},
   "outputs": [],
   "source": [
    "path = \"./all_news_title.csv\"\n",
    "data = pd.read_csv(path, index_col=None, engine='python')"
   ]
  },
  {
   "cell_type": "code",
   "execution_count": 9,
   "id": "19232fb0-a0d5-4587-89e0-d4c8a2189f55",
   "metadata": {},
   "outputs": [],
   "source": [
    "Title = data[\"title\"].tolist()"
   ]
  },
  {
   "cell_type": "code",
   "execution_count": 10,
   "id": "e36daa0b-454b-4362-9433-eac6a0bf7415",
   "metadata": {},
   "outputs": [],
   "source": [
    "api_key = \"〇〇〇\" # Enter your API_Key.\n",
    "openai.api_key = api_key"
   ]
  },
  {
   "cell_type": "code",
   "execution_count": 11,
   "id": "4bb6de3a-d5a9-49d0-baa7-0f07d8ccf15e",
   "metadata": {},
   "outputs": [],
   "source": [
    "Component = []\n",
    "Count = len(Component)"
   ]
  },
  {
   "cell_type": "code",
   "execution_count": 14,
   "id": "72ab6868-2cd4-463b-8796-ba8c1a5feb43",
   "metadata": {},
   "outputs": [],
   "source": [
    "# Function to retrieve information about each element (TItle) of an array.\n",
    "def get_information_about_elements(elements, Count):\n",
    "    progress_tqdm = tqdm(total=len(Title[Count:]), unit=\"count\")\n",
    "    \n",
    "    path = \"\" # Enter the path to save the data.\n",
    "\n",
    "    for element in elements:\n",
    "        \n",
    "        # Send request to ChatGPT.\n",
    "        response = openai.ChatCompletion.create(\n",
    "            model=\"gpt-3.5-turbo\",\n",
    "            messages=[{\n",
    "                \"role\" : \"user\",\n",
    "                \"content\":f\"The title of the news article is『{element}』．In about 10 words, please describe the specific multiple categories of this news article in list form．\" # Enter prompt here.\n",
    "            }],\n",
    "            temperature = 0,\n",
    "            max_tokens=1000  # Adjusted maximum number of tokens in response\n",
    "        )\n",
    "        # Extract information from ChatGPT responses.\n",
    "        Component.append(response.choices[0][\"message\"][\"content\"])\n",
    "        \n",
    "        Count += 1\n",
    "        text = pd.DataFrame(Component, columns=['category'])\n",
    "        text.to_csv(path,index=False)\n",
    "            \n",
    "        time.sleep(1.0)\n",
    "        progress_tqdm.update(1)\n",
    "    \n",
    "    time.sleep(1.0)\n",
    "    progress_tqdm.close()\n",
    "\n",
    "    return Component"
   ]
  },
  {
   "cell_type": "code",
   "execution_count": null,
   "id": "491bc5ba-3197-4086-9ac1-6d9074f7e301",
   "metadata": {
    "scrolled": true
   },
   "outputs": [],
   "source": [
    "while Count < len(Title):\n",
    "    try:\n",
    "        Count = len(Component)\n",
    "        # Get information about each element of the array.\n",
    "        information_list = get_information_about_elements(Title[Count:],Count)\n",
    "    except:\n",
    "        pass"
   ]
  }
 ],
 "metadata": {
  "kernelspec": {
   "display_name": "maekawa",
   "language": "python",
   "name": "python3"
  },
  "language_info": {
   "codemirror_mode": {
    "name": "ipython",
    "version": 3
   },
   "file_extension": ".py",
   "mimetype": "text/x-python",
   "name": "python",
   "nbconvert_exporter": "python",
   "pygments_lexer": "ipython3",
   "version": "3.9.18"
  }
 },
 "nbformat": 4,
 "nbformat_minor": 5
}
